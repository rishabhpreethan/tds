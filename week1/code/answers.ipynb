{
 "cells": [
  {
   "cell_type": "code",
   "execution_count": 1,
   "metadata": {},
   "outputs": [],
   "source": [
    "import pandas as pd"
   ]
  },
  {
   "cell_type": "code",
   "execution_count": 5,
   "metadata": {},
   "outputs": [
    {
     "name": "stdout",
     "output_type": "stream",
     "text": [
      "Whisker.low for Mexico in 2017: 6.48485122963786\n"
     ]
    }
   ],
   "source": [
    "# 1.\n",
    "\n",
    "# Load the dataset\n",
    "file_path = 'C:\\\\Users\\\\Ritesh\\\\Documents\\\\github\\\\tds\\\\week1\\\\datasets\\\\2017.csv'\n",
    "data = pd.read_csv(file_path)\n",
    "\n",
    "# Filter for Mexico\n",
    "mexico_data = data[data['Country'] == 'Mexico']\n",
    "\n",
    "# Get the Whisker.low value\n",
    "whisker_low_mexico = mexico_data['Whisker.low'].values[0]\n",
    "print('Whisker.low for Mexico in 2017:', whisker_low_mexico)"
   ]
  },
  {
   "cell_type": "code",
   "execution_count": 9,
   "metadata": {},
   "outputs": [
    {
     "name": "stdout",
     "output_type": "stream",
     "text": [
      "Happiness Rank of Chile in 2015: 27\n"
     ]
    }
   ],
   "source": [
    "# 2.\n",
    "\n",
    "# Load the dataset\n",
    "file_path = 'C:\\\\Users\\\\Ritesh\\\\Documents\\\\github\\\\tds\\\\week1\\\\datasets\\\\2015.csv'\n",
    "data = pd.read_csv(file_path)\n",
    "\n",
    "# Filter for Chile\n",
    "chile_data = data[data['Country'] == 'Chile']\n",
    "\n",
    "# Get the Happiness Rank value\n",
    "happiness_rank_chile = chile_data['Happiness Rank'].values[0]\n",
    "print('Happiness Rank of Chile in 2015:', happiness_rank_chile)"
   ]
  }
 ],
 "metadata": {
  "kernelspec": {
   "display_name": "Python 3",
   "language": "python",
   "name": "python3"
  },
  "language_info": {
   "codemirror_mode": {
    "name": "ipython",
    "version": 3
   },
   "file_extension": ".py",
   "mimetype": "text/x-python",
   "name": "python",
   "nbconvert_exporter": "python",
   "pygments_lexer": "ipython3",
   "version": "3.11.3"
  }
 },
 "nbformat": 4,
 "nbformat_minor": 2
}
